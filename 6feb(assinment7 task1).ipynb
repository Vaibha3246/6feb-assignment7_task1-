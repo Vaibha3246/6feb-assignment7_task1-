{
 "cells": [
  {
   "cell_type": "code",
   "execution_count": null,
   "id": "5126831a-5db8-4fe5-a9dc-e573b1bbd3e7",
   "metadata": {},
   "outputs": [],
   "source": [
    "Q1. Create a function which will take a list as an argument and return the product of all the numbers after creating a flat list.\n",
    "Use the below-given list as an argument for your function. \n",
    "list1 = [1,2,3,4, [44,55,66, True], False, (34,56,78,89,34), {1,2,3,3,2,1}, {1:34, \"key2\": [55, 67, 78, 89], 4: (45, 22, 61, 34)},\n",
    "         [56, 'data science'], 'Machine Learning\"]\n",
    "\n",
    "Note: you must extract numeric keys and values of the dictionary also."
   ]
  },
  {
   "cell_type": "code",
   "execution_count": 7,
   "id": "f301e1dd-d1ff-4537-a5e2-87398b3f199c",
   "metadata": {},
   "outputs": [
    {
     "name": "stdout",
     "output_type": "stream",
     "text": [
      "4134711838987085478833841242112000\n"
     ]
    }
   ],
   "source": [
    "list1 = [1,2,3,4, \n",
    "         [44,55,66, True], \n",
    "         False, \n",
    "         (34,56,78,89,34), \n",
    "         {1,2,3,3,2,1}, \n",
    "         {1:34, \"key2\": [55, 67, 78, 89], 4: (45, 22, 61, 34)}, \n",
    "         [56, 'data science'], \n",
    "         'Machine Learning']\n",
    "# print(list1)\n",
    "from functools import reduce \n",
    "### Creating a Function for filtering individual intergers \n",
    "def fnum(l):\n",
    "    \n",
    "    def fil(x,y):\n",
    "        if type(x) == int or type(x) == float:\n",
    "            y.append(x)\n",
    "        if type(x) == list or type(x) == tuple or type(x) == set:\n",
    "            for b in x:\n",
    "                y.append(b)\n",
    "                \n",
    "    fl = []\n",
    "    for a in l:\n",
    "        fil(a,fl)\n",
    "        if type(a) == dict:\n",
    "            for c in list(a.keys()):\n",
    "                fil(c,fl)\n",
    "            for e in list(a.values()):\n",
    "                fil(e,fl)\n",
    "            \n",
    "    o = list(filter(lambda x:type(x) == int,fl))\n",
    "    return o\n",
    "#### Execution \n",
    "final = fnum(list1)\n",
    "print(reduce(lambda x,y:x*y,final))    "
   ]
  },
  {
   "cell_type": "code",
   "execution_count": null,
   "id": "33207cfb-dc86-42b8-a582-a119249a092a",
   "metadata": {},
   "outputs": [],
   "source": [
    "Q2. Write a python program for encrypting a message sent to you by your friend. The logic of encryption should be such that, for a the output should be z. For b, the output should be y. For c, the output should be x respectively. Also, the whitespace should be replaced with a dollar sign. Keep the punctuation marks unchanged.\n",
    "Input Sentence: I want to become a Data Scientist.\n",
    "\n",
    "Encrypt the above input sentence using the program you just created.\n",
    "Note: Convert the given input sentence into lowercase before encrypting. The final output should be owercase."
   ]
  },
  {
   "cell_type": "code",
   "execution_count": 8,
   "id": "8e424369-e03c-41d0-a857-c386374d1e87",
   "metadata": {},
   "outputs": [
    {
     "name": "stdout",
     "output_type": "stream",
     "text": [
      "r$kzmg$gl$yvxlnv$z$wzgz$hxrvmgrhg\n",
      "abckevghijklmnopqrstuvwxyz\n",
      "zyxwvutsrqponmlkjihgvekcba\n"
     ]
    }
   ],
   "source": [
    "messages = 'I want to become a Data Scientist'\n",
    "messages = messages.lower().replace(' ','$')\n",
    "alphabet = 'zyxwvutsrqponmlkjihgvekcba'\n",
    "encrypt = ''\n",
    "for i in messages:\n",
    "    position = alphabet.find(i)\n",
    "    if i =='$':\n",
    "        encrypt = encrypt + i\n",
    "    else:\n",
    "        word = ord(i)-97\n",
    "        encrypt += alphabet[word]\n",
    "print(encrypt)\n",
    "a_to_z = alphabet[::-1] \n",
    "print(a_to_z)\n",
    "print(alphabet)"
   ]
  },
  {
   "cell_type": "code",
   "execution_count": null,
   "id": "1026a453-23d0-4223-aa58-19034483246a",
   "metadata": {},
   "outputs": [],
   "source": []
  }
 ],
 "metadata": {
  "kernelspec": {
   "display_name": "Python 3 (ipykernel)",
   "language": "python",
   "name": "python3"
  },
  "language_info": {
   "codemirror_mode": {
    "name": "ipython",
    "version": 3
   },
   "file_extension": ".py",
   "mimetype": "text/x-python",
   "name": "python",
   "nbconvert_exporter": "python",
   "pygments_lexer": "ipython3",
   "version": "3.10.6"
  }
 },
 "nbformat": 4,
 "nbformat_minor": 5
}
